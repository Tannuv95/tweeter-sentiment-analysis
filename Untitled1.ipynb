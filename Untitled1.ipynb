{
  "nbformat": 4,
  "nbformat_minor": 0,
  "metadata": {
    "colab": {
      "name": "Untitled1.ipynb",
      "provenance": [],
      "authorship_tag": "ABX9TyMX23E5+aa0VzXeyUr6XN2R",
      "include_colab_link": true
    },
    "kernelspec": {
      "name": "python3",
      "display_name": "Python 3"
    },
    "language_info": {
      "name": "python"
    }
  },
  "cells": [
    {
      "cell_type": "markdown",
      "metadata": {
        "id": "view-in-github",
        "colab_type": "text"
      },
      "source": [
        "<a href=\"https://colab.research.google.com/github/Tannuv95/Tannuv95/blob/main/Untitled1.ipynb\" target=\"_parent\"><img src=\"https://colab.research.google.com/assets/colab-badge.svg\" alt=\"Open In Colab\"/></a>"
      ]
    },
    {
      "cell_type": "code",
      "metadata": {
        "id": "ihaQlL7s_BsP"
      },
      "source": [
        "import tweepy\n",
        "import matplotlib.pyplot as plt\n",
        "from  textblob import TextBlob \n",
        "import time\n",
        "\n",
        "# all 4 authentication keys to access twitter API\n",
        "# to connect as OAth handler or jump serever / revers proxy server\n",
        "consumer_key = \"wV5msmnOzfMWs1KsJ8tyLGdHL\"\n",
        "consumer_sec = \"dDVhNTvEdUp7NpfMJ7Tv53a4IEglaD9JZVpz4oUArnJWa92rfc\"\n",
        "\n",
        "# from proxy server we need to connect\n",
        "access_token = \"1382265653780901889-sH567w0eJkSP0Px0od1M1wLDH43bSZ\"\n",
        "access_token_sec = \"FmXjka3gQq3kp6I9vknXq6lW653dqUdIb5CCjns5zPpG2\"\n",
        "\n",
        "# tweepy explore\n",
        "dir(tweepy)\n",
        "\n",
        "# connected to jump server of twitter\n",
        "auth=tweepy.OAuthHandler(consumer_key,consumer_sec)\n",
        "\n",
        "# now we can connect from jump server to web server of twitter\n",
        "auth.set_access_token(access_token,access_token_sec)\n",
        "\n",
        "# now we can connect to API storge server of twitter\n",
        "api_connect=tweepy.API(auth)\n",
        "\n",
        "# now you can search any topic on twitter\n",
        "tweet_data=api_connect.search('India',count=100)"
      ],
      "execution_count": null,
      "outputs": []
    }
  ]
}